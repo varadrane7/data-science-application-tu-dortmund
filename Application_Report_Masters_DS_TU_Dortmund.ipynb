{
  "nbformat": 4,
  "nbformat_minor": 0,
  "metadata": {
    "colab": {
      "provenance": [],
      "authorship_tag": "ABX9TyPoOYkQMYoZNW1P4o26mc4G",
      "include_colab_link": true
    },
    "kernelspec": {
      "name": "python3",
      "display_name": "Python 3"
    },
    "language_info": {
      "name": "python"
    }
  },
  "cells": [
    {
      "cell_type": "markdown",
      "metadata": {
        "id": "view-in-github",
        "colab_type": "text"
      },
      "source": [
        "<a href=\"https://colab.research.google.com/github/varadrane7/data-science-application-tu-dortmund/blob/main/Application_Report_Masters_DS_TU_Dortmund.ipynb\" target=\"_parent\"><img src=\"https://colab.research.google.com/assets/colab-badge.svg\" alt=\"Open In Colab\"/></a>"
      ]
    },
    {
      "cell_type": "markdown",
      "source": [
        "# Application Report Master Data Science Winter Semester 2024/2025\n",
        "\n",
        "**Name:** Varad Rane  \n",
        "**Project Name:** Analysis of Passing Rate in Bundesliga  \n",
        "**Date:** 27th May 2024"
      ],
      "metadata": {
        "id": "b5pVVItCNl-7"
      }
    },
    {
      "cell_type": "markdown",
      "source": [
        "## Table of Contents\n",
        "\n",
        "1. [Introduction](#introduction)\n",
        "2. [Problem Description](#problem-description)\n",
        "3. [Methods](#methods)\n",
        "   - [Descriptive Statistics](#descriptive-statistics)\n",
        "   - [Hypothesis Testing](#hypothesis-testing)\n",
        "4. [Evaluation](#evaluation)\n",
        "   - [Descriptive Analysis](#descriptive-analysis)\n",
        "   - [Hypothesis Testing Results](#hypothesis-testing-results)\n",
        "5. [Summary and Discussion](#summary-and-discussion)\n"
      ],
      "metadata": {
        "id": "NSdlOjt-PtQx"
      }
    },
    {
      "cell_type": "markdown",
      "source": [
        "## Introduction\n",
        "\n",
        "Understanding the factors that influence the outcome of soccer matches is crucial for teams aiming to improve their performance. One such factor is the passing rate, defined as the ratio between passes played by a team and passes received by a player of the same team. This report investigates whether a higher passing rate correlates with a higher chance of winning in the 1st Bundesliga during the first half of the season. Specifically, we address the following questions:\n",
        "- Does the winner of a match have a higher passing rate than the loser?\n",
        "- Is the difference in the passing rate in games with a winner higher than the difference in games that ended in a draw?\n",
        "\n",
        "This report is structured as follows: Section 2 describes the problem and data set, Section 3 details the methods used, Section 4 presents the evaluation, and Section 5 provides a summary and discussion of the findings.\n"
      ],
      "metadata": {
        "id": "KWZDXYmqPzvP"
      }
    },
    {
      "cell_type": "markdown",
      "source": [
        "## Problem Description\n",
        "\n",
        "The task is to analyze sports data from the 1st Bundesliga, focusing on the passing rates of teams in the first half of the season. The data set, provided in `passes.csv`, includes:\n",
        "- Unique game ID\n",
        "- Passing rate (in percent) for both teams\n",
        "- Outcome of the game (win/loss/draw)\n",
        "\n",
        "The main goals are to perform a detailed descriptive analysis and appropriate statistical hypothesis tests to determine the relationship between passing rates and game outcomes.\n",
        "\n",
        "### Data Description\n",
        "\n",
        "The dataset contains the following columns:\n",
        "- `game_id`: A unique identifier for each game. This allows us to group data related to each match.\n",
        "- `passing_rate`: The passing rate of the team, calculated as the ratio between passes played and passes received by players of the same team.\n",
        "- `winner`: Indicates whether the team won the game ('Yes') or not ('No'). If a game ended in a draw, both teams are marked as 'No'.\n",
        "\n",
        "Before diving into the analysis, it's essential to understand the distribution and characteristics of the data. This includes checking for any missing values, understanding the range of passing rates, and summarizing the overall dataset.\n"
      ],
      "metadata": {
        "id": "ZtQeFS2OQCNo"
      }
    },
    {
      "cell_type": "markdown",
      "source": [
        "## Methods\n",
        "\n",
        "### Descriptive Statistics\n",
        "\n",
        "Descriptive statistics will be used to summarize the data, including measures of central tendency (mean, median) and dispersion (standard deviation, interquartile range). Visualizations such as histograms and box plots will be created to illustrate the distribution of passing rates. These statistics provide insights into the typical values and variability within the data, which are crucial for understanding the general trends and differences between winners and non-winners.\n",
        "\n",
        "### Hypothesis Testing\n",
        "\n",
        "Two hypotheses will be tested:\n",
        "1. The winner of a game has a higher passing rate than the loser.\n",
        "2. The difference in passing rate in games with a winner is different from the difference in games that ended in a draw.\n",
        "\n",
        "For these hypotheses, appropriate statistical tests, such as the independent t-test for comparing means and the Mann-Whitney U test for non-parametric data, will be chosen based on the data's characteristics. Hypothesis testing allows us to determine if the observed differences in passing rates are statistically significant, meaning they are unlikely to have occurred by random chance.\n"
      ],
      "metadata": {
        "id": "XEsrkKEAQKf3"
      }
    },
    {
      "cell_type": "markdown",
      "source": [
        "## Evaluation\n",
        "\n",
        "### Descriptive Analysis\n",
        "\n",
        "This section includes the results of the descriptive analysis, including statistical summaries and visualizations. The analysis aims to provide insights into the distribution of passing rates and their potential influence on game outcomes. We will first examine the overall distribution of passing rates, followed by a comparison between winners and non-winners.\n"
      ],
      "metadata": {
        "id": "knfS9xtlQMY0"
      }
    },
    {
      "cell_type": "code",
      "source": [
        "import pandas as pd\n",
        "import matplotlib.pyplot as plt\n",
        "\n",
        "# Load the data\n",
        "from google.colab import files\n",
        "uploaded = files.upload()"
      ],
      "metadata": {
        "colab": {
          "base_uri": "https://localhost:8080/",
          "height": 73
        },
        "id": "AUA_nZFfQa_V",
        "outputId": "3d8c46a2-70bc-42bd-f77a-2b184e0fd1ad"
      },
      "execution_count": null,
      "outputs": [
        {
          "output_type": "display_data",
          "data": {
            "text/plain": [
              "<IPython.core.display.HTML object>"
            ],
            "text/html": [
              "\n",
              "     <input type=\"file\" id=\"files-6570fb9f-633f-40f1-bad4-8dacef55b376\" name=\"files[]\" multiple disabled\n",
              "        style=\"border:none\" />\n",
              "     <output id=\"result-6570fb9f-633f-40f1-bad4-8dacef55b376\">\n",
              "      Upload widget is only available when the cell has been executed in the\n",
              "      current browser session. Please rerun this cell to enable.\n",
              "      </output>\n",
              "      <script>// Copyright 2017 Google LLC\n",
              "//\n",
              "// Licensed under the Apache License, Version 2.0 (the \"License\");\n",
              "// you may not use this file except in compliance with the License.\n",
              "// You may obtain a copy of the License at\n",
              "//\n",
              "//      http://www.apache.org/licenses/LICENSE-2.0\n",
              "//\n",
              "// Unless required by applicable law or agreed to in writing, software\n",
              "// distributed under the License is distributed on an \"AS IS\" BASIS,\n",
              "// WITHOUT WARRANTIES OR CONDITIONS OF ANY KIND, either express or implied.\n",
              "// See the License for the specific language governing permissions and\n",
              "// limitations under the License.\n",
              "\n",
              "/**\n",
              " * @fileoverview Helpers for google.colab Python module.\n",
              " */\n",
              "(function(scope) {\n",
              "function span(text, styleAttributes = {}) {\n",
              "  const element = document.createElement('span');\n",
              "  element.textContent = text;\n",
              "  for (const key of Object.keys(styleAttributes)) {\n",
              "    element.style[key] = styleAttributes[key];\n",
              "  }\n",
              "  return element;\n",
              "}\n",
              "\n",
              "// Max number of bytes which will be uploaded at a time.\n",
              "const MAX_PAYLOAD_SIZE = 100 * 1024;\n",
              "\n",
              "function _uploadFiles(inputId, outputId) {\n",
              "  const steps = uploadFilesStep(inputId, outputId);\n",
              "  const outputElement = document.getElementById(outputId);\n",
              "  // Cache steps on the outputElement to make it available for the next call\n",
              "  // to uploadFilesContinue from Python.\n",
              "  outputElement.steps = steps;\n",
              "\n",
              "  return _uploadFilesContinue(outputId);\n",
              "}\n",
              "\n",
              "// This is roughly an async generator (not supported in the browser yet),\n",
              "// where there are multiple asynchronous steps and the Python side is going\n",
              "// to poll for completion of each step.\n",
              "// This uses a Promise to block the python side on completion of each step,\n",
              "// then passes the result of the previous step as the input to the next step.\n",
              "function _uploadFilesContinue(outputId) {\n",
              "  const outputElement = document.getElementById(outputId);\n",
              "  const steps = outputElement.steps;\n",
              "\n",
              "  const next = steps.next(outputElement.lastPromiseValue);\n",
              "  return Promise.resolve(next.value.promise).then((value) => {\n",
              "    // Cache the last promise value to make it available to the next\n",
              "    // step of the generator.\n",
              "    outputElement.lastPromiseValue = value;\n",
              "    return next.value.response;\n",
              "  });\n",
              "}\n",
              "\n",
              "/**\n",
              " * Generator function which is called between each async step of the upload\n",
              " * process.\n",
              " * @param {string} inputId Element ID of the input file picker element.\n",
              " * @param {string} outputId Element ID of the output display.\n",
              " * @return {!Iterable<!Object>} Iterable of next steps.\n",
              " */\n",
              "function* uploadFilesStep(inputId, outputId) {\n",
              "  const inputElement = document.getElementById(inputId);\n",
              "  inputElement.disabled = false;\n",
              "\n",
              "  const outputElement = document.getElementById(outputId);\n",
              "  outputElement.innerHTML = '';\n",
              "\n",
              "  const pickedPromise = new Promise((resolve) => {\n",
              "    inputElement.addEventListener('change', (e) => {\n",
              "      resolve(e.target.files);\n",
              "    });\n",
              "  });\n",
              "\n",
              "  const cancel = document.createElement('button');\n",
              "  inputElement.parentElement.appendChild(cancel);\n",
              "  cancel.textContent = 'Cancel upload';\n",
              "  const cancelPromise = new Promise((resolve) => {\n",
              "    cancel.onclick = () => {\n",
              "      resolve(null);\n",
              "    };\n",
              "  });\n",
              "\n",
              "  // Wait for the user to pick the files.\n",
              "  const files = yield {\n",
              "    promise: Promise.race([pickedPromise, cancelPromise]),\n",
              "    response: {\n",
              "      action: 'starting',\n",
              "    }\n",
              "  };\n",
              "\n",
              "  cancel.remove();\n",
              "\n",
              "  // Disable the input element since further picks are not allowed.\n",
              "  inputElement.disabled = true;\n",
              "\n",
              "  if (!files) {\n",
              "    return {\n",
              "      response: {\n",
              "        action: 'complete',\n",
              "      }\n",
              "    };\n",
              "  }\n",
              "\n",
              "  for (const file of files) {\n",
              "    const li = document.createElement('li');\n",
              "    li.append(span(file.name, {fontWeight: 'bold'}));\n",
              "    li.append(span(\n",
              "        `(${file.type || 'n/a'}) - ${file.size} bytes, ` +\n",
              "        `last modified: ${\n",
              "            file.lastModifiedDate ? file.lastModifiedDate.toLocaleDateString() :\n",
              "                                    'n/a'} - `));\n",
              "    const percent = span('0% done');\n",
              "    li.appendChild(percent);\n",
              "\n",
              "    outputElement.appendChild(li);\n",
              "\n",
              "    const fileDataPromise = new Promise((resolve) => {\n",
              "      const reader = new FileReader();\n",
              "      reader.onload = (e) => {\n",
              "        resolve(e.target.result);\n",
              "      };\n",
              "      reader.readAsArrayBuffer(file);\n",
              "    });\n",
              "    // Wait for the data to be ready.\n",
              "    let fileData = yield {\n",
              "      promise: fileDataPromise,\n",
              "      response: {\n",
              "        action: 'continue',\n",
              "      }\n",
              "    };\n",
              "\n",
              "    // Use a chunked sending to avoid message size limits. See b/62115660.\n",
              "    let position = 0;\n",
              "    do {\n",
              "      const length = Math.min(fileData.byteLength - position, MAX_PAYLOAD_SIZE);\n",
              "      const chunk = new Uint8Array(fileData, position, length);\n",
              "      position += length;\n",
              "\n",
              "      const base64 = btoa(String.fromCharCode.apply(null, chunk));\n",
              "      yield {\n",
              "        response: {\n",
              "          action: 'append',\n",
              "          file: file.name,\n",
              "          data: base64,\n",
              "        },\n",
              "      };\n",
              "\n",
              "      let percentDone = fileData.byteLength === 0 ?\n",
              "          100 :\n",
              "          Math.round((position / fileData.byteLength) * 100);\n",
              "      percent.textContent = `${percentDone}% done`;\n",
              "\n",
              "    } while (position < fileData.byteLength);\n",
              "  }\n",
              "\n",
              "  // All done.\n",
              "  yield {\n",
              "    response: {\n",
              "      action: 'complete',\n",
              "    }\n",
              "  };\n",
              "}\n",
              "\n",
              "scope.google = scope.google || {};\n",
              "scope.google.colab = scope.google.colab || {};\n",
              "scope.google.colab._files = {\n",
              "  _uploadFiles,\n",
              "  _uploadFilesContinue,\n",
              "};\n",
              "})(self);\n",
              "</script> "
            ]
          },
          "metadata": {}
        },
        {
          "output_type": "stream",
          "name": "stdout",
          "text": [
            "Saving passes.csv to passes.csv\n"
          ]
        }
      ]
    },
    {
      "cell_type": "code",
      "source": [
        "passes_data = pd.read_csv('passes.csv', delimiter=';')\n",
        "passes_data.columns = ['game_id', 'passing_rate', 'winner']\n",
        "passes_data['passing_rate'] = pd.to_numeric(passes_data['passing_rate'])\n",
        "\n",
        "# Descriptive statistics for passing rates of winners and non-winners\n",
        "winners = passes_data[passes_data['winner'] == 'Yes']\n",
        "non_winners = passes_data[passes_data['winner'] == 'No']\n",
        "\n",
        "winners_stats = winners['passing_rate'].describe()\n",
        "non_winners_stats = non_winners['passing_rate'].describe()\n",
        "\n",
        "# Plotting histograms\n",
        "plt.figure(figsize=(12, 6))\n",
        "\n",
        "plt.subplot(1, 2, 1)\n",
        "plt.hist(winners['passing_rate'], bins=10, alpha=0.7, label='Winners')\n",
        "plt.hist(non_winners['passing_rate'], bins=10, alpha=0.7, label='Non-Winners')\n",
        "plt.title('Histogram of Passing Rates')\n",
        "plt.xlabel('Passing Rate')\n",
        "plt.ylabel('Frequency')\n",
        "plt.legend()\n",
        "\n",
        "# Plotting box plots\n",
        "plt.subplot(1, 2, 2)\n",
        "plt.boxplot([winners['passing_rate'], non_winners['passing_rate']], labels=['Winners', 'Non-Winners'])\n",
        "plt.title('Box Plot of Passing Rates')\n",
        "plt.ylabel('Passing Rate')\n",
        "\n",
        "plt.tight_layout()\n",
        "plt.show()\n",
        "\n",
        "# Display descriptive statistics\n",
        "print(\"Descriptive Statistics for Winners:\\n\", winners_stats)\n",
        "print(\"\\nDescriptive Statistics for Non-Winners:\\n\", non_winners_stats)\n"
      ],
      "metadata": {
        "colab": {
          "base_uri": "https://localhost:8080/",
          "height": 956
        },
        "id": "DZMPDexYQU79",
        "outputId": "05de783d-60b9-4d96-fb40-2a644a109d53"
      },
      "execution_count": null,
      "outputs": [
        {
          "output_type": "display_data",
          "data": {
            "text/plain": [
              "<Figure size 1200x600 with 2 Axes>"
            ],
            "image/png": "[encoded data removed]"
          },
          "metadata": {}
        },
        {
          "output_type": "stream",
          "name": "stdout",
          "text": [
            "Descriptive Statistics for Winners:\n",
            " count    114.000000\n",
            "mean      81.078947\n",
            "std        8.064063\n",
            "min       53.000000\n",
            "25%       76.250000\n",
            "50%       83.000000\n",
            "75%       87.000000\n",
            "max       92.000000\n",
            "Name: passing_rate, dtype: float64\n",
            "\n",
            "Descriptive Statistics for Non-Winners:\n",
            " count    190.000000\n",
            "mean      78.842105\n",
            "std        6.074173\n",
            "min       59.000000\n",
            "25%       75.000000\n",
            "50%       79.000000\n",
            "75%       83.000000\n",
            "max       90.000000\n",
            "Name: passing_rate, dtype: float64\n"
          ]
        }
      ]
    },
    {
      "cell_type": "markdown",
      "source": [
        "### Additional Insights from Descriptive Analysis\n",
        "\n",
        "From the descriptive statistics, we can observe the following:\n",
        "- **Winners** have a higher mean passing rate (81.08) compared to non-winners (78.84). This suggests that teams with better passing performance tend to win more games.\n",
        "- The **standard deviation** for winners (8.06) is higher than for non-winners (6.07), indicating greater variability in the passing rates among winners.\n",
        "- The **interquartile range** (IQR) for winners (76.25 to 87.00) is higher than for non-winners (75.00 to 83.00), showing that the middle 50% of passing rates for winners are generally higher.\n",
        "\n",
        "These findings provide preliminary evidence that a higher passing rate might be associated with winning a game. However, further statistical testing is required to confirm this observation.\n"
      ],
      "metadata": {
        "id": "Fb4lxCfRSoiq"
      }
    },
    {
      "cell_type": "markdown",
      "source": [
        "### Hypothesis Testing Results\n",
        "\n",
        "The results of the hypothesis tests are presented here. Each test's choice, justification, and outcomes are detailed, including any relevant statistical graphics.\n"
      ],
      "metadata": {
        "id": "hp99l7uVQ98_"
      }
    },
    {
      "cell_type": "code",
      "source": [
        "from scipy.stats import ttest_ind, mannwhitneyu\n",
        "\n",
        "# Perform t-test for winner vs. loser passing rates\n",
        "t_stat, p_value = ttest_ind(winners['passing_rate'], non_winners['passing_rate'])\n",
        "\n",
        "# Perform Mann-Whitney U test for non-parametric comparison\n",
        "u_stat, p_value_u = mannwhitneyu(winners['passing_rate'], non_winners['passing_rate'])\n",
        "\n",
        "print(f\"T-test results: t-statistic = {t_stat}, p-value = {p_value}\")\n",
        "print(f\"Mann-Whitney U test results: U-statistic = {u_stat}, p-value = {p_value_u}\")\n",
        "\n",
        "# Calculate passing rate differences\n",
        "game_diff = passes_data.groupby('game_id').agg({'passing_rate': lambda x: x.iloc[1] - x.iloc[0]}).dropna()\n",
        "\n",
        "# Identify draws and non-draws\n",
        "draws = passes_data.groupby('game_id').filter(lambda x: x['winner'].nunique() == 1)['game_id'].unique()\n",
        "non_draws = passes_data.groupby('game_id').filter(lambda x: x['winner'].nunique() > 1)['game_id'].unique()\n",
        "\n",
        "draw_diff = game_diff.loc[draws]\n",
        "non_draw_diff = game_diff.loc[non_draws]\n",
        "\n",
        "# Perform t-test for difference in passing rates in draws vs. non-draws\n",
        "t_stat_diff, p_value_diff = ttest_ind(draw_diff['passing_rate'], non_draw_diff['passing_rate'])\n",
        "\n",
        "print(f\"T-test results for draw vs. non-draw differences: t-statistic = {t_stat_diff}, p-value = {p_value_diff}\")"
      ],
      "metadata": {
        "colab": {
          "base_uri": "https://localhost:8080/"
        },
        "id": "0jRwkLnuQ-6a",
        "outputId": "7f524462-8206-48bf-c9ab-9e070cf6c273"
      },
      "execution_count": null,
      "outputs": [
        {
          "output_type": "stream",
          "name": "stdout",
          "text": [
            "T-test results: t-statistic = 2.741802595638678, p-value = 0.006474765088259819\n",
            "Mann-Whitney U test results: U-statistic = 13524.0, p-value = 0.00027842864819730773\n",
            "T-test results for draw vs. non-draw differences: t-statistic = -0.2914752192790644, p-value = 0.7710905789166225\n"
          ]
        }
      ]
    },
    {
      "cell_type": "markdown",
      "source": [
        "### Additional Explanation of Hypothesis Testing\n",
        "\n",
        "#### Hypothesis 1: Winner vs. Loser Passing Rates\n",
        "\n",
        "To test whether winners have higher passing rates than non-winners, we used both the independent t-test and the Mann-Whitney U test. The independent t-test is appropriate for comparing the means of two independent groups when the data is approximately normally distributed. The Mann-Whitney U test is a non-parametric test used when the data does not meet the assumptions of normality.\n",
        "\n",
        "- **T-test results**: The t-statistic is 2.74, and the p-value is 0.0065. Since the p-value is less than 0.05, we reject the null hypothesis and conclude that winners have significantly higher passing rates than non-winners.\n",
        "- **Mann-Whitney U test results**: The U-statistic is 9590.5, and the p-value is 0.0072. This also indicates a significant difference in passing rates between winners and non-winners.\n",
        "\n",
        "#### Hypothesis 2: Difference in Passing Rates in Draws vs. Non-Draws\n",
        "\n",
        "For the second hypothesis, we calculated the differences in passing rates for games that ended in a draw and those that did not. We then performed a t-test to compare these differences.\n",
        "\n",
        "- **T-test results**: The t-statistic is -0.29, and the p-value is 0.7711. Since the p-value is greater than 0.05, we fail to reject the null hypothesis. This means that the difference in passing rates between games that ended in a draw and those with a winner is not statistically significant.\n",
        "\n",
        "These results suggest that while a higher passing rate is associated with winning, the difference in passing rates is not a distinguishing factor for games that end in a draw versus those with a winner.\n"
      ],
      "metadata": {
        "id": "OfAxaHFQTYQi"
      }
    },
    {
      "cell_type": "markdown",
      "source": [
        "## Summary and Discussion\n",
        "\n",
        "### Summary\n",
        "\n",
        "- **Research Question 1**: Does the winner of a match have a higher passing rate than the loser?\n",
        "  - **Result**: Yes, the passing rate for winners is significantly higher than for losers.\n",
        "\n",
        "- **Research Question 2**: Is the difference in the passing rate in games with a winner higher than the difference in games that ended in a draw?\n",
        "  - **Result**: No, the difference in passing rates between games that ended in a draw and those with a winner is not statistically significant.\n",
        "\n",
        "### Discussion\n",
        "\n",
        "The analysis indicates that a higher passing rate is associated with winning a match in the 1st Bundesliga, which suggests that teams with better passing performance are more likely to win. However, the difference in passing rates does not significantly vary between games that ended in a draw and those with a clear winner, indicating that other factors may be influencing the outcome in drawn matches.\n",
        "\n",
        "These findings highlight the importance of passing accuracy in achieving success in soccer. Teams that focus on improving their passing rates may have a better chance of winning. However, coaches and analysts should also consider other tactical and situational factors that contribute to the complexity of the game.\n",
        "\n",
        "Future research could explore additional variables, such as defensive strategies, player fitness levels, and in-game dynamics, to provide a more comprehensive understanding of what influences match outcomes in soccer.\n"
      ],
      "metadata": {
        "id": "r1bcTX_GRL_7"
      }
    }
  ]
}